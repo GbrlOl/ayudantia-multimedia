{
  "nbformat": 4,
  "nbformat_minor": 0,
  "metadata": {
    "colab": {
      "provenance": [],
      "collapsed_sections": [
        "BEKKMJ86AWjo",
        "YtD9XnPrAZrC",
        "9WYJ4S6Llc6S",
        "lm8AFLqm4ETb",
        "qBTHWxQeMbYV"
      ],
      "mount_file_id": "1K28BjTRvEZr8fGT3xnyziaf26s27_Tac",
      "authorship_tag": "ABX9TyNoV02Dc5r66fBnF/J7tTWw",
      "include_colab_link": true
    },
    "kernelspec": {
      "name": "python3",
      "display_name": "Python 3"
    },
    "language_info": {
      "name": "python"
    }
  },
  "cells": [
    {
      "cell_type": "markdown",
      "metadata": {
        "id": "view-in-github",
        "colab_type": "text"
      },
      "source": [
        "<a href=\"https://colab.research.google.com/github/GbrlOl/ayudantia-multimedia/blob/main/Multiprocesamiento.ipynb\" target=\"_parent\"><img src=\"https://colab.research.google.com/assets/colab-badge.svg\" alt=\"Open In Colab\"/></a>"
      ]
    },
    {
      "cell_type": "markdown",
      "source": [
        "# Ejemplo Simple"
      ],
      "metadata": {
        "id": "BEKKMJ86AWjo"
      }
    },
    {
      "cell_type": "code",
      "source": [
        "import multiprocessing\n",
        "# from multiprocessing import Pool"
      ],
      "metadata": {
        "id": "tK_u70Ff3C3e"
      },
      "execution_count": 6,
      "outputs": []
    },
    {
      "cell_type": "code",
      "source": [
        "def mi_funcion(numero):\n",
        "    return numero ** 2\n",
        "\n",
        "if __name__ == '__main__':\n",
        "    numeros = [1,2,3,4,5]\n",
        "\n",
        "    with multiprocessing.Pool() as pool:\n",
        "        resultados = pool.map(mi_funcion, numeros)\n",
        "\n",
        "    print(resultados)"
      ],
      "metadata": {
        "colab": {
          "base_uri": "https://localhost:8080/"
        },
        "id": "aqcmg_zmDFJN",
        "outputId": "c356ca91-3c25-45bc-8630-a142d113cdcb"
      },
      "execution_count": 8,
      "outputs": [
        {
          "output_type": "stream",
          "name": "stdout",
          "text": [
            "[1, 4, 9, 16, 25]\n"
          ]
        }
      ]
    },
    {
      "cell_type": "markdown",
      "source": [
        "# Ejercicio de la PPT"
      ],
      "metadata": {
        "id": "YtD9XnPrAZrC"
      }
    },
    {
      "cell_type": "code",
      "execution_count": null,
      "metadata": {
        "id": "1R2pI9tm1_JC"
      },
      "outputs": [],
      "source": [
        "proyecto/\n",
        "│\n",
        "├── carpeta1/\n",
        "│   ├── imagen1.jpg\n",
        "│   ├── imagen2.jpg\n",
        "│   └── imagen3.jpg\n",
        "│\n",
        "├── carpeta2/\n",
        "│   ├── imagen1.jpg\n",
        "│   ├── imagen2.jpg\n",
        "│   └── imagen3.jpg\n",
        "│\n",
        "├── carpeta3/\n",
        "│   ├── imagen1.jpg\n",
        "│   ├── imagen2.jpg\n",
        "│   └── imagen3.jpg\n",
        "│\n",
        "├── posprocesadas1/\n",
        "├── posprocesadas2/\n",
        "└── posprocesadas3/\n"
      ]
    },
    {
      "cell_type": "code",
      "source": [
        "!mkdir perros gatos aves"
      ],
      "metadata": {
        "id": "mjt728SZRZvf"
      },
      "execution_count": null,
      "outputs": []
    },
    {
      "cell_type": "code",
      "source": [
        "import os\n",
        "\n",
        "os.mkdir(\"perros\")\n",
        "os.mkdir(\"gatos\")\n",
        "os.mkdir(\"aves\")"
      ],
      "metadata": {
        "id": "cKCf163sk9BR"
      },
      "execution_count": 3,
      "outputs": []
    },
    {
      "cell_type": "code",
      "source": [
        "!rm -rf posprocesadas1/ posprocesadas2/ posprocesadas3/"
      ],
      "metadata": {
        "id": "XBOd_xMWEd5_"
      },
      "execution_count": 9,
      "outputs": []
    },
    {
      "cell_type": "markdown",
      "source": [
        "# Método Tradicional"
      ],
      "metadata": {
        "id": "9WYJ4S6Llc6S"
      }
    },
    {
      "cell_type": "code",
      "source": [
        "!rm -rf /content/aves_posprocesadas3 /content/gatos_posprocesadas2 /content/perros_posprocesadas1"
      ],
      "metadata": {
        "id": "UjdDHamvwuPE"
      },
      "execution_count": null,
      "outputs": []
    },
    {
      "cell_type": "code",
      "source": [
        "import cv2 as cv"
      ],
      "metadata": {
        "id": "_WAFIOgX0pdN"
      },
      "execution_count": null,
      "outputs": []
    },
    {
      "cell_type": "code",
      "source": [
        "%%time\n",
        "def transformacion(img_path, ruta_destino):\n",
        "    print(f\"Procesando: {img_path} -> {ruta_destino}\")\n",
        "    img = cv.imread(img_path)\n",
        "    if img is None:\n",
        "        print(f\"Error al cargar la imagen: {img_path}\")\n",
        "        return\n",
        "    img_rotada = cv.rotate(img, cv.ROTATE_180)\n",
        "    cv.imwrite(ruta_destino, img_rotada)\n",
        "\n",
        "def procesar_imagenes(carpeta_origen, carpeta_destino):\n",
        "    if not os.path.exists(carpeta_destino):\n",
        "        os.mkdir(carpeta_destino)\n",
        "\n",
        "    archivos = os.listdir(carpeta_origen)\n",
        "    for archivo in archivos:\n",
        "        ruta_origen = os.path.join(carpeta_origen, archivo)\n",
        "        ruta_destino = os.path.join(carpeta_destino, archivo)\n",
        "        transformacion(ruta_origen, ruta_destino)\n",
        "\n",
        "\n",
        "procesar_imagenes(\"/content/perros\", \"/content/perros_posprocesadas1\")\n",
        "procesar_imagenes(\"/content/gatos\", \"/content/gatos_posprocesadas2\")\n",
        "procesar_imagenes(\"/content/aves\", \"/content/aves_posprocesadas3\")\n"
      ],
      "metadata": {
        "colab": {
          "base_uri": "https://localhost:8080/"
        },
        "id": "8K_FGrd43tvO",
        "outputId": "2e601526-6952-4c65-95f3-baa42937a267"
      },
      "execution_count": 11,
      "outputs": [
        {
          "output_type": "stream",
          "name": "stdout",
          "text": [
            "Procesando: /content/perros/perro_3.jpg -> /content/perros_posprocesadas1/perro_3.jpg\n",
            "Procesando: /content/perros/perro_1.jpg -> /content/perros_posprocesadas1/perro_1.jpg\n",
            "Procesando: /content/perros/perro_2.jpg -> /content/perros_posprocesadas1/perro_2.jpg\n",
            "Procesando: /content/gatos/gato_3.jpg -> /content/gatos_posprocesadas2/gato_3.jpg\n",
            "Procesando: /content/gatos/gato_1.jpeg -> /content/gatos_posprocesadas2/gato_1.jpeg\n",
            "Procesando: /content/gatos/gato_2.jpg -> /content/gatos_posprocesadas2/gato_2.jpg\n",
            "Procesando: /content/aves/ave_3.jpeg -> /content/aves_posprocesadas3/ave_3.jpeg\n",
            "Procesando: /content/aves/ave_1.jpg -> /content/aves_posprocesadas3/ave_1.jpg\n",
            "Procesando: /content/aves/ave_2.jpg -> /content/aves_posprocesadas3/ave_2.jpg\n",
            "CPU times: user 220 ms, sys: 8.53 ms, total: 229 ms\n",
            "Wall time: 224 ms\n"
          ]
        }
      ]
    },
    {
      "cell_type": "markdown",
      "source": [
        "# Multiproceso"
      ],
      "metadata": {
        "id": "lm8AFLqm4ETb"
      }
    },
    {
      "cell_type": "code",
      "source": [
        "import cv2 as cv\n",
        "from multiprocessing import Pool"
      ],
      "metadata": {
        "id": "hpC-aHEX4KD_"
      },
      "execution_count": 4,
      "outputs": []
    },
    {
      "cell_type": "code",
      "source": [
        "!rm -rf /content/posprocesadas1 /content/posprocesadas2 /content/posprocesadas3"
      ],
      "metadata": {
        "id": "uyrAMx926W1X"
      },
      "execution_count": null,
      "outputs": []
    },
    {
      "cell_type": "code",
      "source": [
        "%%time\n",
        "def procesar_imagen(args):\n",
        "    carpeta_origen, carpeta_destino, nombre_imagen = args\n",
        "    ruta_origen = os.path.join(carpeta_origen, nombre_imagen)\n",
        "    ruta_destino = os.path.join(carpeta_destino, nombre_imagen)\n",
        "\n",
        "    img = cv.imread(ruta_origen)\n",
        "    if img is None: #Un verificador que nos entrega una alerta\n",
        "        return f'Error al abrir: {ruta_origen}'\n",
        "\n",
        "    img_rotada = cv.rotate(img, cv.ROTATE_180) # Rotamos la imagen\n",
        "    cv.imwrite(ruta_destino, img_rotada)\n",
        "\n",
        "    return f'Procesada: {ruta_destino}'\n",
        "\n",
        "def main():\n",
        "    carpetas_origen = ['/content/perros', '/content/gatos', '/content/aves']\n",
        "    carpetas_destino = ['posprocesadas1', 'posprocesadas2', 'posprocesadas3']\n",
        "\n",
        "    # Crear carpetas de destino si no existen\n",
        "    for carpeta in carpetas_destino:\n",
        "        os.makedirs(carpeta, exist_ok=True)\n",
        "\n",
        "    tareas = []\n",
        "    for origen, destino in zip(carpetas_origen, carpetas_destino):\n",
        "        print(origen)\n",
        "        print(destino)\n",
        "        for nombre_imagen in os.listdir(origen):\n",
        "            if nombre_imagen.endswith(('.jpg', '.jpeg', '.png')):\n",
        "                tareas.append((origen, destino, nombre_imagen))\n",
        "    print(tareas)\n",
        "    # Usar el pool de procesos para el procesamiento paralelo\n",
        "    with Pool() as pool:\n",
        "        resultados = pool.map(procesar_imagen, tareas)\n",
        "\n",
        "    for resultado in resultados:\n",
        "        print(resultado)\n",
        "\n",
        "if __name__ == '__main__':\n",
        "    main()\n"
      ],
      "metadata": {
        "colab": {
          "base_uri": "https://localhost:8080/"
        },
        "id": "Sz0i8J9-4Ff6",
        "outputId": "16ba3427-97e5-4f6b-c3e7-f813f9dc04c1"
      },
      "execution_count": 10,
      "outputs": [
        {
          "output_type": "stream",
          "name": "stdout",
          "text": [
            "/content/perros\n",
            "posprocesadas1\n",
            "/content/gatos\n",
            "posprocesadas2\n",
            "/content/aves\n",
            "posprocesadas3\n",
            "[('/content/perros', 'posprocesadas1', 'perro_3.jpg'), ('/content/perros', 'posprocesadas1', 'perro_1.jpg'), ('/content/perros', 'posprocesadas1', 'perro_2.jpg'), ('/content/gatos', 'posprocesadas2', 'gato_3.jpg'), ('/content/gatos', 'posprocesadas2', 'gato_1.jpeg'), ('/content/gatos', 'posprocesadas2', 'gato_2.jpg'), ('/content/aves', 'posprocesadas3', 'ave_3.jpeg'), ('/content/aves', 'posprocesadas3', 'ave_1.jpg'), ('/content/aves', 'posprocesadas3', 'ave_2.jpg')]\n",
            "Procesada: posprocesadas1/perro_3.jpg\n",
            "Procesada: posprocesadas1/perro_1.jpg\n",
            "Procesada: posprocesadas1/perro_2.jpg\n",
            "Procesada: posprocesadas2/gato_3.jpg\n",
            "Procesada: posprocesadas2/gato_1.jpeg\n",
            "Procesada: posprocesadas2/gato_2.jpg\n",
            "Procesada: posprocesadas3/ave_3.jpeg\n",
            "Procesada: posprocesadas3/ave_1.jpg\n",
            "Procesada: posprocesadas3/ave_2.jpg\n",
            "CPU times: user 25.8 ms, sys: 25 ms, total: 50.8 ms\n",
            "Wall time: 258 ms\n"
          ]
        }
      ]
    },
    {
      "cell_type": "markdown",
      "source": [
        "# Multiprocesamiento Utilizando la Librería PIL"
      ],
      "metadata": {
        "id": "qBTHWxQeMbYV"
      }
    },
    {
      "cell_type": "code",
      "source": [
        "from multiprocessing import Pool\n",
        "from PIL import Image\n",
        "\n",
        "def procesar_imagen(args):\n",
        "    carpeta_origen, carpeta_destino, nombre_imagen = args\n",
        "    ruta_origen = os.path.join(carpeta_origen, nombre_imagen)\n",
        "    ruta_destino = os.path.join(carpeta_destino, nombre_imagen)\n",
        "\n",
        "    # Abrir la imagen\n",
        "    with Image.open(ruta_origen) as img:\n",
        "        # Rotar la imagen 180 grados\n",
        "        img_rotada = img.rotate(180)\n",
        "        # Guardar la imagen procesada\n",
        "        img_rotada.save(ruta_destino)\n",
        "    return f'Procesada: {ruta_destino}'\n",
        "\n",
        "def main():\n",
        "    carpetas_origen = ['/content/perros', '/content/gatos', '/content/aves']\n",
        "    carpetas_destino = ['perros_posprocesadas1', 'gatos_posprocesadas2', 'aves_posprocesadas3']\n",
        "\n",
        "    # Crear carpetas de destino si no existen\n",
        "    for carpeta in carpetas_destino:\n",
        "        os.makedirs(carpeta, exist_ok=True)\n",
        "\n",
        "    tareas = []\n",
        "    for origen, destino in zip(carpetas_origen, carpetas_destino):\n",
        "        for nombre_imagen in os.listdir(origen):\n",
        "            if nombre_imagen.endswith(('.jpg', '.jpeg', '.png')):\n",
        "                tareas.append((origen, destino, nombre_imagen))\n",
        "\n",
        "    # Usar el pool de procesos para el procesamiento paralelo\n",
        "    with Pool() as pool:\n",
        "        resultados = pool.map(procesar_imagen, tareas)\n",
        "\n",
        "    for resultado in resultados:\n",
        "        print(resultado)\n",
        "\n",
        "if __name__ == '__main__':\n",
        "    main()\n"
      ],
      "metadata": {
        "colab": {
          "base_uri": "https://localhost:8080/"
        },
        "id": "hCwhiOiAS8TH",
        "outputId": "4ab5d9df-c4b0-44c0-fe18-f7874b5bcc4d"
      },
      "execution_count": null,
      "outputs": [
        {
          "output_type": "stream",
          "name": "stdout",
          "text": [
            "Procesada: perros_posprocesadas1/perro_3.jpg\n",
            "Procesada: perros_posprocesadas1/perro_1.jpg\n",
            "Procesada: perros_posprocesadas1/perro_2.jpg\n",
            "Procesada: gatos_posprocesadas2/gato_2.jpg\n",
            "Procesada: gatos_posprocesadas2/gato_3.jpg\n",
            "Procesada: gatos_posprocesadas2/gato_1.jpeg\n",
            "Procesada: aves_posprocesadas3/ave_1.jpg\n",
            "Procesada: aves_posprocesadas3/ave_2.jpg\n",
            "Procesada: aves_posprocesadas3/ave_3.jpeg\n"
          ]
        }
      ]
    }
  ]
}